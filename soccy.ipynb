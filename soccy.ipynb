{
 "cells": [
  {
   "cell_type": "code",
   "execution_count": 1,
   "metadata": {},
   "outputs": [],
   "source": [
    "import pandas as pd\n",
    "import numpy as np\n",
    "import os\n",
    "\n",
    "import json\n",
    "\n",
    "SHOT_ID = 16\n"
   ]
  },
  {
   "cell_type": "code",
   "execution_count": 2,
   "metadata": {},
   "outputs": [],
   "source": [
    "def getOutcome(event_id, dataset):\n",
    "    event_index = 0\n",
    "    current_pos = 0\n",
    "    for i in range(len(dataset)):\n",
    "        if dataset[i].get(\"id\") == event_id:\n",
    "            \n",
    "            event_index = i\n",
    "            current_pos = dataset[i].get('possession_team').get(\"id\")\n",
    "            break\n",
    "            \n",
    "    for i in range(event_index+1, len(dataset)):\n",
    "        event = dataset[i]\n",
    "        if event.get(\"possession_team\").get(\"id\") != current_pos:\n",
    "            return 0\n",
    "        elif event.get(\"type\").get(\"id\") == SHOT_ID:\n",
    "            return event.get(\"shot\").get(\"statsbomb_xg\")\n",
    "    \n",
    "    return 0\n",
    "    "
   ]
  },
  {
   "cell_type": "code",
   "execution_count": 3,
   "metadata": {},
   "outputs": [],
   "source": [
    "def encodeEvent(event):\n",
    "    if event.get(\"type\").get(\"id\") == 18 or event.get(\"type\").get(\"id\") == 35 or event.get(\"type\").get(\"id\") == 42:\n",
    "        return None\n",
    "    \n",
    "    \n",
    "    x = []\n",
    "    x.append(event.get(\"minute\"))\n",
    "    x.append(event.get(\"second\"))\n",
    "    x.append(event.get(\"possession\"))\n",
    "    x.append(event.get(\"type\").get(\"id\"))\n",
    "    x.append(event.get(\"play_pattern\").get(\"id\"))\n",
    "    x.append(event.get(\"duration\"))\n",
    "    location = event.get(\"location\")\n",
    "    if location is None:\n",
    "        return None\n",
    "    x.append(event.get(\"location\")[0])\n",
    "    x.append(event.get(\"location\")[1])\n",
    "    \n",
    "    return x\n",
    "    \n",
    "    "
   ]
  },
  {
   "cell_type": "code",
   "execution_count": 4,
   "metadata": {},
   "outputs": [],
   "source": [
    "import numpy as np\n",
    "\n",
    "def createDataset():\n",
    "    X, Y = [], []\n",
    "    files = os.listdir(\"open-data/data/events/\")\n",
    "    for file in files:\n",
    "        print(\"Processing file \" + file)\n",
    "        filepath = \"open-data/data/events/\" + file\n",
    "        with open(filepath, \"r\", encoding=\"UTF-8\") as file:\n",
    "            match = json.load(file)\n",
    "        \n",
    "        #do work on data here\n",
    "        for event in match:\n",
    "            event_id = event.get(\"id\")\n",
    "            \n",
    "            x = encodeEvent(event)\n",
    "            y = getOutcome(event_id, match)\n",
    "            \n",
    "            if y is None:\n",
    "                y = 0\n",
    "            \n",
    "            \n",
    "            \n",
    "            if x is not None:\n",
    "                X.append(x)\n",
    "                Y.append(y)\n",
    "            \n",
    "    \n",
    "    np.savez(\"processed/dataset.npz\", X, Y)\n",
    "    return X, Y\n",
    "        \n",
    "    "
   ]
  },
  {
   "cell_type": "code",
   "execution_count": 5,
   "metadata": {},
   "outputs": [],
   "source": [
    "dataset = np.load(\"dataset.npz\", allow_pickle=True)"
   ]
  },
  {
   "cell_type": "code",
   "execution_count": 6,
   "metadata": {},
   "outputs": [
    {
     "data": {
      "text/plain": [
       "array([[0, 0, 2, ..., 1.909, 61.0, 41.0],\n",
       "       [0, 2, 2, ..., 1.49, 36.0, 26.0],\n",
       "       [0, 3, 2, ..., 3.288, 36.0, 29.0],\n",
       "       ...,\n",
       "       [92, 7, 171, ..., 0.071, 91.0, 43.0],\n",
       "       [92, 8, 171, ..., 0.0, 92.0, 37.0],\n",
       "       [92, 8, 171, ..., 0.0, 30.0, 38.0]], dtype=object)"
      ]
     },
     "execution_count": 6,
     "metadata": {},
     "output_type": "execute_result"
    }
   ],
   "source": [
    "dataset[\"arr_0\"]"
   ]
  },
  {
   "cell_type": "code",
   "execution_count": 7,
   "metadata": {},
   "outputs": [],
   "source": [
    "import sklearn\n",
    "from sklearn import preprocessing\n",
    "\n",
    "\n",
    "\n",
    "X = dataset[\"arr_0\"].astype(np.float)\n",
    "Y = dataset[\"arr_1\"].astype(np.float)\n",
    "\n",
    "X = np.nan_to_num(X)\n",
    "\n"
   ]
  },
  {
   "cell_type": "code",
   "execution_count": 8,
   "metadata": {},
   "outputs": [],
   "source": [
    "import tensorflow as tf\n",
    "from tensorflow import keras"
   ]
  },
  {
   "cell_type": "code",
   "execution_count": 9,
   "metadata": {},
   "outputs": [],
   "source": [
    "model = keras.Sequential()\n",
    "model.add(keras.layers.Dense(8))\n",
    "model.add(keras.layers.Dropout(0.2))\n",
    "model.add(keras.layers.Dense(32))\n",
    "model.add(keras.layers.Activation('relu'))\n",
    "model.add(keras.layers.Dropout(0.2))\n",
    "model.add(keras.layers.Dense(32))\n",
    "model.add(keras.layers.Dropout(0.2))\n",
    "model.add(keras.layers.Activation('relu'))\n",
    "model.add(keras.layers.Dense(1, activation=\"sigmoid\"))\n",
    "model.compile(loss=\"mean_squared_error\", optimizer=\"adam\", metrics=[\"cosine_proximity\", \"accuracy\"])\n",
    "\n"
   ]
  },
  {
   "cell_type": "code",
   "execution_count": null,
   "metadata": {},
   "outputs": [],
   "source": [
    "\n"
   ]
  },
  {
   "cell_type": "code",
   "execution_count": 10,
   "metadata": {},
   "outputs": [
    {
     "name": "stdout",
     "output_type": "stream",
     "text": [
      "Train on 2251443 samples\n",
      "Epoch 1/5\n",
      "2251443/2251443 [==============================] - 9s 4us/sample - loss: 0.0118 - cosine_proximity: 0.0089 - accuracy: 0.7710\n",
      "Epoch 2/5\n",
      "2251443/2251443 [==============================] - 8s 3us/sample - loss: 0.0080 - cosine_proximity: 0.0019 - accuracy: 0.7744\n",
      "Epoch 3/5\n",
      "2251443/2251443 [==============================] - 8s 3us/sample - loss: 0.0080 - cosine_proximity: 0.0012 - accuracy: 0.7744\n",
      "Epoch 4/5\n",
      "2251443/2251443 [==============================] - 8s 3us/sample - loss: 0.0080 - cosine_proximity: 4.8089e-04 - accuracy: 0.7744\n",
      "Epoch 5/5\n",
      "2251443/2251443 [==============================] - 8s 3us/sample - loss: 0.0080 - cosine_proximity: 3.8693e-04 - accuracy: 0.7744\n"
     ]
    },
    {
     "data": {
      "text/plain": [
       "<tensorflow.python.keras.callbacks.History at 0x7f6e20225518>"
      ]
     },
     "execution_count": 10,
     "metadata": {},
     "output_type": "execute_result"
    }
   ],
   "source": [
    "model.fit(np.asarray(X), np.asarray(Y), epochs=5, batch_size=1024)"
   ]
  },
  {
   "cell_type": "code",
   "execution_count": 11,
   "metadata": {},
   "outputs": [],
   "source": [
    "model.save(\"model.h5\")"
   ]
  },
  {
   "cell_type": "code",
   "execution_count": 12,
   "metadata": {},
   "outputs": [
    {
     "data": {
      "text/plain": [
       "array([[0.],\n",
       "       [0.],\n",
       "       [0.],\n",
       "       ...,\n",
       "       [0.],\n",
       "       [0.],\n",
       "       [0.]], dtype=float32)"
      ]
     },
     "execution_count": 12,
     "metadata": {},
     "output_type": "execute_result"
    }
   ],
   "source": [
    "model.predict(X)"
   ]
  },
  {
   "cell_type": "code",
   "execution_count": null,
   "metadata": {},
   "outputs": [],
   "source": []
  },
  {
   "cell_type": "code",
   "execution_count": 13,
   "metadata": {},
   "outputs": [
    {
     "data": {
      "text/plain": [
       "GradientBoostingRegressor()"
      ]
     },
     "execution_count": 13,
     "metadata": {},
     "output_type": "execute_result"
    }
   ],
   "source": [
    "from sklearn.ensemble import GradientBoostingRegressor\n",
    "reg = GradientBoostingRegressor(n_estimators=100)\n",
    "\n",
    "reg.fit(X,Y)"
   ]
  },
  {
   "cell_type": "code",
   "execution_count": 14,
   "metadata": {},
   "outputs": [
    {
     "data": {
      "text/plain": [
       "array([0.01785338])"
      ]
     },
     "execution_count": 14,
     "metadata": {},
     "output_type": "execute_result"
    }
   ],
   "source": [
    "reg.predict(X[:1])"
   ]
  },
  {
   "cell_type": "code",
   "execution_count": 15,
   "metadata": {},
   "outputs": [],
   "source": [
    "from collections import defaultdict\n",
    "\n",
    "players = defaultdict(list)\n",
    "\n",
    "files = os.listdir(\"open-data/data/events/\")\n",
    "\n",
    "for file in files:\n",
    "    filepath = \"open-data/data/events/\"+file\n",
    "    with open(filepath, \"r\", encoding=\"UTF-8\") as file:\n",
    "            match = json.load(file)\n",
    "            \n",
    "    for event in match:\n",
    "        player = event.get(\"player\")\n",
    "        if player is not None:\n",
    "            name = player.get(\"name\")\n",
    "            encoded = np.array(encodeEvent(event)).reshape(1,-1)\n",
    "            encoded = np.nan_to_num(encoded)\n",
    "            try:\n",
    "                score = reg.predict(encoded)\n",
    "                players[name].append(score[0])\n",
    "            except:\n",
    "                pass\n",
    "   \n",
    "\n",
    "    \n",
    "            "
   ]
  },
  {
   "cell_type": "code",
   "execution_count": 25,
   "metadata": {},
   "outputs": [],
   "source": [
    "rankings = []\n",
    "for player,values in players.items():\n",
    "    rankings.append((player,(sum(values)/len(values), len(values))))"
   ]
  },
  {
   "cell_type": "code",
   "execution_count": 39,
   "metadata": {},
   "outputs": [],
   "source": [
    "cutrankings = []\n",
    "for player in rankings:\n",
    "    if player[1][1] > 1000:\n",
    "        cutrankings.append([player[0], player[1][0], player[1][1]])\n",
    "        \n",
    "cutrankings = np.array(cutrankings)\n",
    "\n",
    "pd.DataFrame(cutrankings).to_csv(\"data.csv\")\n",
    "\n",
    "        \n",
    "\n",
    "    "
   ]
  },
  {
   "cell_type": "code",
   "execution_count": null,
   "metadata": {},
   "outputs": [],
   "source": [
    "import matplotlib.pyplot as plt\n",
    "\n"
   ]
  }
 ],
 "metadata": {
  "kernelspec": {
   "display_name": "Python 3",
   "language": "python",
   "name": "python3"
  },
  "language_info": {
   "codemirror_mode": {
    "name": "ipython",
    "version": 3
   },
   "file_extension": ".py",
   "mimetype": "text/x-python",
   "name": "python",
   "nbconvert_exporter": "python",
   "pygments_lexer": "ipython3",
   "version": "3.6.8"
  }
 },
 "nbformat": 4,
 "nbformat_minor": 4
}
